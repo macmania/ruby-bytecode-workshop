{
 "cells": [
  {
   "cell_type": "markdown",
   "id": "f2ec6cc5",
   "metadata": {},
   "source": [
    "To convert ruby code to ruby bytecode/iseq instructions, ruby code has to go through the scanner and parser. We'll look at the data structures that the ruby scanner and parser creates. "
   ]
  },
  {
   "cell_type": "code",
   "execution_count": null,
   "id": "cfb12aaa",
   "metadata": {},
   "outputs": [],
   "source": [
    "require 'ripper' # ripper is a ruby library that can split code into tokens and build an abstract syntax tree."
   ]
  },
  {
   "cell_type": "markdown",
   "id": "2e8e8250",
   "metadata": {},
   "source": [
    "## Tokenizing ruby source code"
   ]
  },
  {
   "cell_type": "code",
   "execution_count": null,
   "id": "e907f715",
   "metadata": {},
   "outputs": [],
   "source": [
    "code = <<STR\n",
    "a+='hello'\n",
    "STR"
   ]
  },
  {
   "cell_type": "code",
   "execution_count": null,
   "id": "f764e399",
   "metadata": {},
   "outputs": [],
   "source": [
    "tokens = Ripper.lex code\n",
    "\n",
    "tokens.each do |tok| \n",
    "  print \"#{tok}\\n\" \n",
    "end "
   ]
  },
  {
   "cell_type": "markdown",
   "id": "81f063a4",
   "metadata": {},
   "source": [
    "Ripper accepts incorrect ruby code"
   ]
  },
  {
   "cell_type": "code",
   "execution_count": null,
   "id": "b6b27dca",
   "metadata": {},
   "outputs": [],
   "source": [
    "bad_code = <<STR\n",
    "a = kdkdkdkd\n",
    "print \"\n",
    "STR"
   ]
  },
  {
   "cell_type": "code",
   "execution_count": null,
   "id": "386c391f",
   "metadata": {
    "scrolled": true
   },
   "outputs": [],
   "source": [
    "bad_tokens = Ripper.lex bad_code\n",
    "\n",
    "bad_tokens.each do |tok| \n",
    "  print \"#{tok}\\n\" \n",
    "end "
   ]
  },
  {
   "cell_type": "markdown",
   "id": "86afa5a2",
   "metadata": {},
   "source": [
    "Scanners don't have enough information to determine if code is syntactically correct or not"
   ]
  },
  {
   "cell_type": "markdown",
   "id": "6f65bfe0",
   "metadata": {},
   "source": [
    "## Tokens to Abstract Syntax Trees"
   ]
  },
  {
   "cell_type": "markdown",
   "id": "b1638b57",
   "metadata": {},
   "source": [
    "One of the more interesting data structures that the frontend compilation produces is Abstract Syntax Trees. AST represents the structure of the code. Let's look at how ruby creates an AST from a list of tokens. We'll continue using the code samples above."
   ]
  },
  {
   "cell_type": "code",
   "execution_count": null,
   "id": "1104d887",
   "metadata": {},
   "outputs": [],
   "source": [
    "code = <<STR\n",
    "a = 1\n",
    "b = 2\n",
    "c = a + b\n",
    "print c\n",
    "STR\n",
    "print \"CODE\\n#{code}\\n\"\n",
    "\n",
    "ast = Ripper.sexp code"
   ]
  },
  {
   "cell_type": "markdown",
   "id": "95466ffe",
   "metadata": {},
   "source": [
    "If we were to represent this to a tree, it would look something like the following:\n",
    "![tree](sample_code_tree.png)\n",
    "     "
   ]
  },
  {
   "cell_type": "code",
   "execution_count": null,
   "id": "9464dd51",
   "metadata": {},
   "outputs": [],
   "source": [
    "root = RubyVM::AbstractSyntaxTree.parse(code)\n",
    "root.children.last.children"
   ]
  },
  {
   "cell_type": "code",
   "execution_count": null,
   "id": "85f82874",
   "metadata": {},
   "outputs": [],
   "source": [
    "root.children.last.children[0].children"
   ]
  },
  {
   "cell_type": "markdown",
   "id": "3036e4c0",
   "metadata": {},
   "source": [
    "ASTs are useful in determining for syntax, type and style correctness. \n",
    "\n",
    "Ruby 1.8 would take in an AST and execute the instructions directly. As you can see, ASTs can have a large memory footprint as the size of the code gets bigger. Ruby 1.8 interpreter could take a long time to traverse nodes. The nodes may not live closely with one another in the heap.\n",
    "\n",
    "To reduce memory footprint, ruby 1.9+ converts an AST to bytecode/ISeq. Bytecode can fit in 1 operation for every 1 byte. By adding bytecode generation, we've sacrificed simplicity with completexity and speed. "
   ]
  },
  {
   "cell_type": "markdown",
   "id": "51293bc6",
   "metadata": {},
   "source": [
    "## Ruby Interpreter\n",
    "Let's take a look at what ruby bytecode looks like"
   ]
  },
  {
   "cell_type": "code",
   "execution_count": 6,
   "id": "11a4f21c",
   "metadata": {},
   "outputs": [
    {
     "name": "stdout",
     "output_type": "stream",
     "text": [
      "\"YARB\\x02\\x00\\x00\\x00\\a\\x00\\x00\\x00T\\x01\\x00\\x00\\x00\\x00\\x00\\x00\\x01\\x00\\x00\\x00\\x0E\\x00\\x00\\x00\\xD0\\x00\\x00\\x00\\x1C\\x01\\x00\\x00arm64-darwin21\\x00%\\x05\\x05\\v\\x01%\\a\\x05\\t\\x01\\x03\\v\\x01\\x03\\t\\x01e\\x00\\x00\\xFF\\xFF\\xFF\\xFF\\xFF\\xFF\\xFF\\xFF\\x05\\a\\x01#\\x03\\a\\x01e\\x00\\x00\\xFF\\xFF\\xFF\\xFF\\xFF\\xFF\\xFF\\xFFw\\x03\\x03\\x03\\x01\\x05\\x03\\x05\\x01\\a\\x03\\a\\x01\\t\\x03\\t\\x01\\x01\\x05\\a\\x05\\a\\a\\x13\\x03\\x00\\x00\\x00\\x00\\x00\\x00\\x00\\x04\\x00\\x00\\x00\\x00\\x00\\x00\\x00\\x05\\x00\\x00\\x00\\x00\\x00\\x00\\x00\\x06\\x00\\x00\\x00\\x00\\x00\\x00\\x00\\x0F!\\x03\\x11)\\x03\\x01=\\xD7]\\x01\\x01\\x01\\x01\\x01\\x01\\x01\\x01{\\x01\\x03\\x03\\x03\\a!\\x03\\x01\\t\\x0F{[\\x11=\\x01\\r\\x00\\xFF\\xFF\\xFF\\xFF\\xFF\\xFF\\xFF\\xFF\\x01\\r\\x01\\a\\x01\\x05\\x01\\x05\\x01\\x00\\x00\\x00\\x9E\\x00\\x00\\x00\\xF1\\x11\\x00\\x00E\\x05\\x15<compiled>\\x00\\x00\\x00\\xF5\\a\\x00\\x00\\xF5\\v\\x00\\x00\\x14\\x13\\x00\\x00\\x14\\x15\\x00\\x00\\x14\\x17\\x00\\x00\\x14\\x19\\x00\\x00\\x14\\e\\x00\\x00E\\x05\\x03aE\\x05\\x03bE\\x05\\x03cE\\x05\\x03+E\\x05\\vprint\\xD4\\x00\\x00\\x00\\xD8\\x00\\x00\\x00\\xE8\\x00\\x00\\x00\\xEC\\x00\\x00\\x00\\xF0\\x00\\x00\\x00\\xF4\\x00\\x00\\x00\\xF8\\x00\\x00\\x00\\xFC\\x00\\x00\\x00\\x00\\x01\\x00\\x00\\x04\\x01\\x00\\x00\\b\\x01\\x00\\x00\\f\\x01\\x00\\x00\\x10\\x01\\x00\\x00\\x14\\x01\\x00\\x00\"\n"
     ]
    },
    {
     "data": {
      "text/plain": [
       "\"YARB\\x02\\x00\\x00\\x00\\a\\x00\\x00\\x00T\\x01\\x00\\x00\\x00\\x00\\x00\\x00\\x01\\x00\\x00\\x00\\x0E\\x00\\x00\\x00\\xD0\\x00\\x00\\x00\\x1C\\x01\\x00\\x00arm64-darwin21\\x00%\\x05\\x05\\v\\x01%\\a\\x05\\t\\x01\\x03\\v\\x01\\x03\\t\\x01e\\x00\\x00\\xFF\\xFF\\xFF\\xFF\\xFF\\xFF\\xFF\\xFF\\x05\\a\\x01#\\x03\\a\\x01e\\x00\\x00\\xFF\\xFF\\xFF\\xFF\\xFF\\xFF\\xFF\\xFFw\\x03\\x03\\x03\\x01\\x05\\x03\\x05\\x01\\a\\x03\\a\\x01\\t\\x03\\t\\x01\\x01\\x05\\a\\x05\\a\\a\\x13\\x03\\x00\\x00\\x00\\x00\\x00\\x00\\x00\\x04\\x00\\x00\\x00\\x00\\x00\\x00\\x00\\x05\\x00\\x00\\x00\\x00\\x00\\x00\\x00\\x06\\x00\\x00\\x00\\x00\\x00\\x00\\x00\\x0F!\\x03\\x11)\\x03\\x01=\\xD7]\\x01\\x01\\x01\\x01\\x01\\x01\\x01\\x01{\\x01\\x03\\x03\\x03\\a!\\x03\\x01\\t\\x0F{[\\x11=\\x01\\r\\x00\\xFF\\xFF\\xFF\\xFF\\xFF\\xFF\\xFF\\xFF\\x01\\r\\x01\\a\\x01\\x05\\x01\\x05\\x01\\x00\\x00\\x00\\x9E\\x00\\x00\\x00\\xF1\\x11\\x00\\x00E\\x05\\x15<compiled>\\x00\\x00\\x00\\xF5\\a\\x00\\x00\\xF5\\v\\x00\\x00\\x14\\x13\\x00\\x00\\x14\\x15\\x00\\x00\\x14\\x17\\x00\\x00\\x14\\x19\\x00\\x00\\x14\\e\\x00\\x00E\\x05\\x03aE\\x05\\x03bE\\x05\\x03cE\\x05\\x03+E\\x05\\vprint\\xD4\\x00\\x00\\x00\\xD8\\x00\\x00\\x00\\xE8\\x00\\x00\\x00\\xEC\\x00\\x00\\x00\\xF0\\x00\\x00\\x00\\xF4\\x00\\x00\\x00\\xF8\\x00\\x00\\x00\\xFC\\x00\\x00\\x00\\x00\\x01\\x00\\x00\\x04\\x01\\x00\\x00\\b\\x01\\x00\\x00\\f\\x01\\x00\\x00\\x10\\x01\\x00\\x00\\x14\\x01\\x00\\x00\""
      ]
     },
     "execution_count": 6,
     "metadata": {},
     "output_type": "execute_result"
    }
   ],
   "source": [
    "options = RubyVM::InstructionSequence.compile_option\n",
    "options[:inline_const_cache] = false\n",
    "options[:peephole_optimization] = false\n",
    "options[:specialized_instruction] = false\n",
    "options[:operands_unification] = false\n",
    "options[:coverage_enabled] = false\n",
    "\n",
    "inseq = RubyVM::InstructionSequence.compile(code, **options)\n",
    "pp inseq.to_binary # not very useful for us"
   ]
  },
  {
   "cell_type": "code",
   "execution_count": null,
   "id": "7ff7d409",
   "metadata": {},
   "outputs": [],
   "source": [
    "inseq.eval"
   ]
  },
  {
   "cell_type": "code",
   "execution_count": null,
   "id": "3d5e83fc",
   "metadata": {},
   "outputs": [],
   "source": [
    "puts inseq.disasm # the disassembled bytecode varies depending on the optimization flags you pass in"
   ]
  },
  {
   "cell_type": "markdown",
   "id": "499c633f",
   "metadata": {},
   "source": [
    "If we want to compile with all optimization flags on, this is what we would get: "
   ]
  },
  {
   "cell_type": "code",
   "execution_count": 7,
   "id": "8a991cbb",
   "metadata": {},
   "outputs": [
    {
     "name": "stdout",
     "output_type": "stream",
     "text": [
      "== disasm: #<ISeq:<compiled>@<compiled>:1 (1,0)-(4,7)> (catch: FALSE)\n",
      "local table (size: 3, argc: 0 [opts: 0, rest: -1, post: 0, block: -1, kw: -1@-1, kwrest: -1])\n",
      "[ 3] a@0        [ 2] b@1        [ 1] c@2\n",
      "0000 putobject_INT2FIX_1_                                             (   1)[Li]\n",
      "0001 setlocal_WC_0                          a@0\n",
      "0003 putobject                              2                         (   2)[Li]\n",
      "0005 setlocal_WC_0                          b@1\n",
      "0007 getlocal_WC_0                          a@0                       (   3)[Li]\n",
      "0009 getlocal_WC_0                          b@1\n",
      "0011 opt_plus                               <calldata!mid:+, argc:1, ARGS_SIMPLE>\n",
      "0013 setlocal_WC_0                          c@2\n",
      "0015 putself                                                          (   4)[Li]\n",
      "0016 getlocal_WC_0                          c@2\n",
      "0018 opt_send_without_block                 <calldata!mid:print, argc:1, FCALL|ARGS_SIMPLE>\n",
      "0020 leave\n"
     ]
    }
   ],
   "source": [
    "optimized_bytecode = RubyVM::InstructionSequence.compile(code)\n",
    "puts optimized_bytecode.disasm"
   ]
  },
  {
   "attachments": {
    "ast_bytecode.png": {
     "image/png": "[encoded data removed]"
    }
   },
   "cell_type": "markdown",
   "id": "ca727281",
   "metadata": {},
   "source": [
    "![ast_bytecode.png](attachment:ast_bytecode.png)"
   ]
  },
  {
   "cell_type": "code",
   "execution_count": null,
   "id": "eff60bad",
   "metadata": {},
   "outputs": [],
   "source": [
    "inseq.to_a.each {|seq| print \"#{seq}\\n\"}"
   ]
  },
  {
   "cell_type": "markdown",
   "id": "7875ad49",
   "metadata": {},
   "source": [
    "Ruby interpreter uses a stack to keep track of the operations, arguments and return values. "
   ]
  },
  {
   "cell_type": "code",
   "execution_count": 8,
   "id": "c05e4428",
   "metadata": {
    "scrolled": true
   },
   "outputs": [
    {
     "name": "stdout",
     "output_type": "stream",
     "text": [
      "1\n",
      "RUBY_EVENT_LINE\n",
      "[:putobject, 1]\n",
      "[:setlocal, 5, 0]\n",
      "2\n",
      "RUBY_EVENT_LINE\n",
      "[:putobject, 2]\n",
      "[:setlocal, 4, 0]\n",
      "3\n",
      "RUBY_EVENT_LINE\n",
      "[:getlocal, 5, 0]\n",
      "[:getlocal, 4, 0]\n",
      "[:send, {:mid=>:+, :flag=>16, :orig_argc=>1}, nil]\n",
      "[:setlocal, 3, 0]\n",
      "4\n",
      "RUBY_EVENT_LINE\n",
      "[:putself]\n",
      "[:getlocal, 3, 0]\n",
      "[:send, {:mid=>:print, :flag=>20, :orig_argc=>1}, nil]\n",
      "[:leave]\n"
     ]
    },
    {
     "data": {
      "text/plain": [
       "[1, :RUBY_EVENT_LINE, [:putobject, 1], [:setlocal, 5, 0], 2, :RUBY_EVENT_LINE, [:putobject, 2], [:setlocal, 4, 0], 3, :RUBY_EVENT_LINE, [:getlocal, 5, 0], [:getlocal, 4, 0], [:send, {:mid=>:+, :flag=>16, :orig_argc=>1}, nil], [:setlocal, 3, 0], 4, :RUBY_EVENT_LINE, [:putself], [:getlocal, 3, 0], [:send, {:mid=>:print, :flag=>20, :orig_argc=>1}, nil], [:leave]]"
      ]
     },
     "execution_count": 8,
     "metadata": {},
     "output_type": "execute_result"
    }
   ],
   "source": [
    "inseq.to_a[13].each {|x| \n",
    "  if x.instance_of?(Array)\n",
    "    pp x\n",
    "  else \n",
    "    puts x\n",
    "  end\n",
    "}"
   ]
  },
  {
   "cell_type": "code",
   "execution_count": null,
   "id": "de935722",
   "metadata": {},
   "outputs": [],
   "source": [
    "inseq.to_a"
   ]
  },
  {
   "cell_type": "markdown",
   "id": "c169aa84",
   "metadata": {},
   "source": [
    "Ruby has a rich set of expressions such as classes, function blocks and simple ruby code. Bytecode for function blocks and classes are different from simple ruby code. \n",
    "\n",
    "API doc: https://ruby-doc.org/core-2.6/RubyVM/InstructionSequence.html"
   ]
  },
  {
   "cell_type": "code",
   "execution_count": 9,
   "id": "1055735f",
   "metadata": {},
   "outputs": [
    {
     "data": {
      "text/plain": [
       "[\"YARVInstructionSequence/SimpleDataFormat\", 2, 7, 1, {:arg_size=>0, :local_size=>3, :stack_max=>2, :node_id=>16, :code_location=>[1, 0, 4, 7]}, \"<compiled>\", \"<compiled>\", \"<compiled>\", 1, :top, [:a, :b, :c], {}, [], [1, :RUBY_EVENT_LINE, [:putobject, 1], [:setlocal, 5, 0], 2, :RUBY_EVENT_LINE, [:putobject, 2], [:setlocal, 4, 0], 3, :RUBY_EVENT_LINE, [:getlocal, 5, 0], [:getlocal, 4, 0], [:send, {:mid=>:+, :flag=>16, :orig_argc=>1}, nil], [:setlocal, 3, 0], 4, :RUBY_EVENT_LINE, [:putself], [:getlocal, 3, 0], [:send, {:mid=>:print, :flag=>20, :orig_argc=>1}, nil], [:leave]]]"
      ]
     },
     "execution_count": 9,
     "metadata": {},
     "output_type": "execute_result"
    }
   ],
   "source": [
    "_magic, _major_version, _minor_version, _format_type, _misc,\n",
    "  @name, @path, @absolute_path, @start_lineno, @type,\n",
    "  @locals, @fargs_format, catch_table, insns = *inseq\n"
   ]
  },
  {
   "cell_type": "markdown",
   "id": "85807841",
   "metadata": {},
   "source": [
    "To load compile bytecode in memory. "
   ]
  },
  {
   "cell_type": "code",
   "execution_count": 24,
   "id": "cb73a365",
   "metadata": {},
   "outputs": [
    {
     "ename": "RuntimeError",
     "evalue": "unmatched version file (3.0 for 2.7)",
     "output_type": "error",
     "traceback": [
      "\u001b[31mRuntimeError\u001b[0m: unmatched version file (3.0 for 2.7)",
      "(irb):in `load_from_binary'",
      "(irb):in `irb_binding'"
     ]
    }
   ],
   "source": [
    "RubyVM::InstructionSequence.load_from_binary(File.binread('binary_data/assign1')).disasm"
   ]
  },
  {
   "cell_type": "markdown",
   "id": "c56a1273",
   "metadata": {},
   "source": [
    "we'll be using this Struct to parse the ruby instruction sequences. "
   ]
  },
  {
   "cell_type": "code",
   "execution_count": 11,
   "id": "c19c382e",
   "metadata": {},
   "outputs": [
    {
     "data": {
      "text/plain": [
       "#<Class:0x000000013818a6a8>"
      ]
     },
     "execution_count": 11,
     "metadata": {},
     "output_type": "execute_result"
    }
   ],
   "source": [
    "Insn = Struct.new(:insn, :operands, :lineno) # typeprof"
   ]
  },
  {
   "cell_type": "code",
   "execution_count": 14,
   "id": "20068499",
   "metadata": {},
   "outputs": [
    {
     "data": {
      "text/plain": [
       "[1, :RUBY_EVENT_LINE, [:putobject, 1], [:setlocal, 5, 0], 2, :RUBY_EVENT_LINE, [:putobject, 2], [:setlocal, 4, 0], 3, :RUBY_EVENT_LINE, [:getlocal, 5, 0], [:getlocal, 4, 0], [:send, {:mid=>:+, :flag=>16, :orig_argc=>1}, nil], [:setlocal, 3, 0], 4, :RUBY_EVENT_LINE, [:putself], [:getlocal, 3, 0], [:send, {:mid=>:print, :flag=>20, :orig_argc=>1}, nil], [:leave]]"
      ]
     },
     "execution_count": 14,
     "metadata": {},
     "output_type": "execute_result"
    }
   ],
   "source": [
    "ninsns = []\n",
    "lineno = 0\n",
    "insns.each do |e|\n",
    "  case e\n",
    "  when Integer # lineno\n",
    "    lineno = e\n",
    "  when Symbol # label or trace\n",
    "    ninsns << e\n",
    "  when Array  \n",
    "    insn, *operands = e\n",
    "    ninsns << Insn.new(insn, operands, lineno)\n",
    "  else\n",
    "    raise \"unknown iseq entry: #{ e }\"\n",
    "  end\n",
    "end"
   ]
  },
  {
   "cell_type": "code",
   "execution_count": 15,
   "id": "373af796",
   "metadata": {
    "scrolled": true
   },
   "outputs": [
    {
     "name": "stdout",
     "output_type": "stream",
     "text": [
      "RUBY_EVENT_LINE\n",
      "#<struct insn=:putobject, operands=[1], lineno=1>\n",
      "#<struct insn=:setlocal, operands=[5, 0], lineno=1>\n",
      "RUBY_EVENT_LINE\n",
      "#<struct insn=:putobject, operands=[2], lineno=2>\n",
      "#<struct insn=:setlocal, operands=[4, 0], lineno=2>\n",
      "RUBY_EVENT_LINE\n",
      "#<struct insn=:getlocal, operands=[5, 0], lineno=3>\n",
      "#<struct insn=:getlocal, operands=[4, 0], lineno=3>\n",
      "#<struct insn=:send, operands=[{:mid=>:+, :flag=>16, :orig_argc=>1}, nil], lineno=3>\n",
      "#<struct insn=:setlocal, operands=[3, 0], lineno=3>\n",
      "RUBY_EVENT_LINE\n",
      "#<struct insn=:putself, operands=[], lineno=4>\n",
      "#<struct insn=:getlocal, operands=[3, 0], lineno=4>\n",
      "#<struct insn=:send, operands=[{:mid=>:print, :flag=>20, :orig_argc=>1}, nil], lineno=4>\n",
      "#<struct insn=:leave, operands=[], lineno=4>\n"
     ]
    }
   ],
   "source": [
    "puts ninsns"
   ]
  },
  {
   "cell_type": "code",
   "execution_count": 16,
   "id": "8b5cb142",
   "metadata": {},
   "outputs": [
    {
     "name": "stdout",
     "output_type": "stream",
     "text": [
      "1"
     ]
    }
   ],
   "source": [
    "self.send(:print, 1)"
   ]
  },
  {
   "cell_type": "code",
   "execution_count": 17,
   "id": "fc5eaa6f",
   "metadata": {},
   "outputs": [
    {
     "data": {
      "text/plain": [
       "[:a, :b, :c]"
      ]
     },
     "execution_count": 17,
     "metadata": {},
     "output_type": "execute_result"
    }
   ],
   "source": [
    "@locals"
   ]
  },
  {
   "cell_type": "code",
   "execution_count": null,
   "id": "35111748",
   "metadata": {},
   "outputs": [],
   "source": [
    "puts iseq.disasm"
   ]
  },
  {
   "cell_type": "markdown",
   "id": "02cb5e28",
   "metadata": {},
   "source": [
    "### If/Else"
   ]
  },
  {
   "cell_type": "code",
   "execution_count": 21,
   "id": "b31904ef",
   "metadata": {},
   "outputs": [
    {
     "data": {
      "text/plain": [
       "<RubyVM::InstructionSequence:<main>@sample_code/simple_condition.rb:1>"
      ]
     },
     "execution_count": 21,
     "metadata": {},
     "output_type": "execute_result"
    }
   ],
   "source": [
    "iseq_cond = RubyVM::InstructionSequence.compile_file('sample_code/simple_condition.rb', **options)"
   ]
  },
  {
   "cell_type": "code",
   "execution_count": null,
   "id": "c5a6b4b8",
   "metadata": {},
   "outputs": [],
   "source": [
    "puts iseq_func.disasm"
   ]
  },
  {
   "cell_type": "code",
   "execution_count": 22,
   "id": "01a103b7",
   "metadata": {},
   "outputs": [
    {
     "data": {
      "text/plain": [
       "[\"YARVInstructionSequence/SimpleDataFormat\", 2, 7, 1, {:arg_size=>0, :local_size=>1, :stack_max=>2, :node_id=>15, :code_location=>[1, 0, 7, 3]}, \"<main>\", \"sample_code/simple_condition.rb\", \"/Users/macmania/workspace/ruby-bytecode-workshop/sample_code/simple_condition.rb\", 1, :top, [:x], {}, [], [1, :RUBY_EVENT_LINE, [:putobject, 5], [:setlocal, 3, 0], 3, :RUBY_EVENT_LINE, [:getlocal, 3, 0], [:putobject, 20], [:send, {:mid=>:<, :flag=>16, :orig_argc=>1}, nil], [:branchunless, :label_25], [:jump, :label_17], :label_17, 4, :RUBY_EVENT_LINE, [:putself], [:putstring, \"less than 20\"], [:send, {:mid=>:pp, :flag=>20, :orig_argc=>1}, nil], 3, [:jump, :label_31], :label_25, 6, :RUBY_EVENT_LINE, [:putself], [:putstring, \"greater than 20\"], [:send, {:mid=>:pp, :flag=>20, :orig_argc=>1}, nil], :label_31, [:leave]]]"
      ]
     },
     "execution_count": 22,
     "metadata": {},
     "output_type": "execute_result"
    }
   ],
   "source": [
    "_magic, _major_version, _minor_version, _format_type, _misc,\n",
    "  @name, @path, @absolute_path, @start_lineno, @type,\n",
    "  @locals, @fargs_format, catch_table, insns = *iseq_func.to_a"
   ]
  },
  {
   "cell_type": "code",
   "execution_count": 23,
   "id": "ddd17541",
   "metadata": {},
   "outputs": [
    {
     "data": {
      "text/plain": [
       "[1, :RUBY_EVENT_LINE, [:putobject, 5], [:setlocal, 3, 0], 3, :RUBY_EVENT_LINE, [:getlocal, 3, 0], [:putobject, 20], [:send, {:mid=>:<, :flag=>16, :orig_argc=>1}, nil], [:branchunless, :label_25], [:jump, :label_17], :label_17, 4, :RUBY_EVENT_LINE, [:putself], [:putstring, \"less than 20\"], [:send, {:mid=>:pp, :flag=>20, :orig_argc=>1}, nil], 3, [:jump, :label_31], :label_25, 6, :RUBY_EVENT_LINE, [:putself], [:putstring, \"greater than 20\"], [:send, {:mid=>:pp, :flag=>20, :orig_argc=>1}, nil], :label_31, [:leave]]"
      ]
     },
     "execution_count": 23,
     "metadata": {},
     "output_type": "execute_result"
    }
   ],
   "source": [
    "ninsns = []\n",
    "lineno = 0\n",
    "insns.each do |e|\n",
    "  case e\n",
    "  when Integer # lineno\n",
    "    lineno = e\n",
    "  when Symbol # label or trace\n",
    "    ninsns << e\n",
    "  when Array  \n",
    "    insn, *operands = e\n",
    "    ninsns << Insn.new(insn, operands, lineno)\n",
    "  else\n",
    "    raise \"unknown iseq entry: #{ e }\"\n",
    "  end\n",
    "end"
   ]
  },
  {
   "cell_type": "code",
   "execution_count": null,
   "id": "787388bd",
   "metadata": {},
   "outputs": [],
   "source": [
    "puts ninsns"
   ]
  },
  {
   "cell_type": "markdown",
   "id": "539ade85",
   "metadata": {},
   "source": [
    "### Loops"
   ]
  },
  {
   "cell_type": "code",
   "execution_count": null,
   "id": "4cbeddfa",
   "metadata": {},
   "outputs": [],
   "source": []
  }
 ],
 "metadata": {
  "kernelspec": {
   "display_name": "Ruby 2.7.2",
   "language": "ruby",
   "name": "ruby"
  },
  "language_info": {
   "file_extension": ".rb",
   "mimetype": "application/x-ruby",
   "name": "ruby",
   "version": "2.7.2"
  }
 },
 "nbformat": 4,
 "nbformat_minor": 5
}
